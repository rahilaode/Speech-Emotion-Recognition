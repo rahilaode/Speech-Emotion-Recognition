{
 "cells": [
  {
   "cell_type": "markdown",
   "id": "7acdb474",
   "metadata": {},
   "source": [
    "# Dataset Description\n",
    "## Context\n",
    "<br>\n",
    "Speech is the most natural way of expressing ourselves as humans. It is only natural then to extend this communication medium to computer applications. We define speech emotion recognition (SER) systems as a collection of methodologies that process and classify speech signals to detect the embedded emotions. SER is not a new field, it has been around for over two decades, and has regained attention thanks to the recent advancements. These novel studies make use of the advances in all fields of computing and technology, making it necessary to have an update on the current methodologies and techniques that make SER possible. We have identified and discussed distinct areas of SER, provided a detailed survey of current literature of each, and also listed the current challenges.\n",
    "\n",
    "## Content\n",
    "Here 4 most popular datasets in English: Crema, Ravdess, Savee and Tess. Each of them contains audio in .wav format with some main labels.\n",
    "<br>\n",
    "Ravdess:\n",
    "<br>\n",
    "Here is the filename identifiers as per the official RAVDESS website:\n",
    "<br>\n",
    "* Modality (01 = full-AV, 02 = video-only, 03 = audio-only).\n",
    "* Vocal channel (01 = speech, 02 = song).\n",
    "* Emotion (01 = neutral, 02 = calm, 03 = happy, 04 = sad, 05 = angry, 06 = fearful, 07 = disgust, 08 = surprised).\n",
    "* Emotional intensity (01 = normal, 02 = strong). NOTE: There is no strong intensity for the 'neutral' emotion.\n",
    "* Statement (01 = \"Kids are talking by the door\", 02 = \"Dogs are sitting by the door\").\n",
    "* Repetition (01 = 1st repetition, 02 = 2nd repetition).\n",
    "* Actor (01 to 24. Odd numbered actors are male, even numbered actors are female).\n",
    "\n",
    "So, here's an example of an audio filename. 02-01-06-01-02-01-12.wav This means the meta data for the audio file is:\n",
    "<br>\n",
    "* Video-only (02)\n",
    "* Speech (01)\n",
    "* Fearful (06)\n",
    "* Normal intensity (01)\n",
    "* Statement \"dogs\" (02)\n",
    "* 1st Repetition (01)\n",
    "* 12th Actor (12) - Female (as the actor ID number is even)\n",
    "\n",
    "Crema:\n",
    "<br>\n",
    "The third component is responsible for the emotion label:\n",
    "<br>\n",
    "* SAD - sadness;\n",
    "* ANG - angry;\n",
    "* DIS - disgust;\n",
    "* FEA - fear;\n",
    "* HAP - happy;\n",
    "* NEU - neutral.\n",
    "\n",
    "Tess:\n",
    "\n",
    "Very similar to Crema - label of emotion is contained in the name of file.\n",
    "\n",
    "Savee:\n",
    "<br>\n",
    "The audio files in this dataset are named in such a way that the prefix letters describes the emotion classes as follows:\n",
    "<br>\n",
    "* 'a' = 'anger'\n",
    "* 'd' = 'disgust'\n",
    "* 'f' = 'fear'\n",
    "* 'h' = 'happiness'\n",
    "* 'n' = 'neutral'\n",
    "* 'sa' = 'sadness'\n",
    "* 'su' = 'surprise'"
   ]
  },
  {
   "cell_type": "code",
   "execution_count": 1,
   "id": "170a4a41",
   "metadata": {},
   "outputs": [],
   "source": [
    "import os"
   ]
  },
  {
   "cell_type": "code",
   "execution_count": 3,
   "id": "c2f92d62",
   "metadata": {},
   "outputs": [
    {
     "data": {
      "text/plain": [
       "['.ipynb_checkpoints',\n",
       " 'Crema',\n",
       " 'Ravdess',\n",
       " 'Savee',\n",
       " 'Speech Emotion Recognition Dataset.zip',\n",
       " 'Tess',\n",
       " 'Untitled.ipynb']"
      ]
     },
     "execution_count": 3,
     "metadata": {},
     "output_type": "execute_result"
    }
   ],
   "source": [
    "os.listdir()"
   ]
  },
  {
   "cell_type": "code",
   "execution_count": 4,
   "id": "49141d43",
   "metadata": {},
   "outputs": [
    {
     "name": "stdout",
     "output_type": "stream",
     "text": [
      "Requirement already satisfied: patool in c:\\users\\laode\\anaconda3\\lib\\site-packages (1.12)\n",
      "patool: Extracting Speech Emotion Recognition Dataset.zip ...\n",
      "patool: ... Speech Emotion Recognition Dataset.zip extracted to `D:\\My Project\\Speech Emotion Recognition'.\n"
     ]
    },
    {
     "data": {
      "text/plain": [
       "'D:\\\\My Project\\\\Speech Emotion Recognition'"
      ]
     },
     "execution_count": 4,
     "metadata": {},
     "output_type": "execute_result"
    }
   ],
   "source": [
    "!pip install patool\n",
    "import patoolib\n",
    "patoolib.extract_archive(\"Speech Emotion Recognition Dataset.zip\", outdir=\"D:\\My Project\\Speech Emotion Recognition\", interactive=True)"
   ]
  },
  {
   "cell_type": "markdown",
   "id": "318d027d",
   "metadata": {},
   "source": [
    "# Define Dataset Path"
   ]
  },
  {
   "cell_type": "code",
   "execution_count": 2,
   "id": "95fb67ef",
   "metadata": {},
   "outputs": [
    {
     "data": {
      "text/plain": [
       "['.git',\n",
       " '.ipynb_checkpoints',\n",
       " 'Crema',\n",
       " 'Ravdess',\n",
       " 'Savee',\n",
       " 'Speech Emotion Recognition Dataset.zip',\n",
       " 'Speech Emotion Recognition.ipynb',\n",
       " 'Tess']"
      ]
     },
     "execution_count": 2,
     "metadata": {},
     "output_type": "execute_result"
    }
   ],
   "source": [
    "os.listdir()"
   ]
  },
  {
   "cell_type": "code",
   "execution_count": 77,
   "id": "a8fff034",
   "metadata": {},
   "outputs": [],
   "source": [
    "crema_path = 'Crema/'\n",
    "ravdess_path = 'Ravdess/'\n",
    "savee_path = 'Savee/'\n",
    "tess_path = 'Tess/'"
   ]
  },
  {
   "cell_type": "markdown",
   "id": "ebbc8875",
   "metadata": {},
   "source": [
    "Check sample filenames from each dataset"
   ]
  },
  {
   "cell_type": "code",
   "execution_count": 78,
   "id": "e3f820a6",
   "metadata": {},
   "outputs": [
    {
     "name": "stdout",
     "output_type": "stream",
     "text": [
      "Crema audio filename sample:\n",
      "['1001_DFA_ANG_XX.wav', '1001_DFA_DIS_XX.wav', '1001_DFA_FEA_XX.wav', '1001_DFA_HAP_XX.wav', '1001_DFA_NEU_XX.wav'] \n",
      "\n",
      "Ravdess audio filename sample:\n",
      "['audio_speech_actors_01-24'] \n",
      "\n",
      "Savee audio filename sample:\n",
      "['DC_a01.wav', 'DC_a02.wav', 'DC_a03.wav', 'DC_a04.wav', 'DC_a05.wav'] \n",
      "\n",
      "Tess audio filename sample:\n",
      "['OAF_angry', 'OAF_disgust', 'OAF_Fear', 'OAF_happy', 'OAF_neutral'] \n",
      "\n"
     ]
    }
   ],
   "source": [
    "print(\"Crema audio filename sample:\")\n",
    "print(os.listdir(crema_path)[:5], '\\n')\n",
    "print(\"Ravdess audio filename sample:\")\n",
    "print(os.listdir(ravdess_path)[:5], '\\n')\n",
    "print(\"Savee audio filename sample:\")\n",
    "print(os.listdir(savee_path)[:5], '\\n')\n",
    "print(\"Tess audio filename sample:\")\n",
    "print(os.listdir(tess_path)[:5], '\\n')"
   ]
  },
  {
   "cell_type": "markdown",
   "id": "091cd5bc",
   "metadata": {},
   "source": [
    "# Create dataframe containing names of path and emotion for each audio file based on  Dataset Description"
   ]
  },
  {
   "cell_type": "markdown",
   "id": "8c61302e",
   "metadata": {},
   "source": [
    "## Crema Dataset"
   ]
  },
  {
   "cell_type": "code",
   "execution_count": 79,
   "id": "d06052bc",
   "metadata": {},
   "outputs": [
    {
     "data": {
      "text/plain": [
       "'1001_DFA_DIS_XX.wav'"
      ]
     },
     "execution_count": 79,
     "metadata": {},
     "output_type": "execute_result"
    }
   ],
   "source": [
    "os.listdir(crema_path)[1]"
   ]
  },
  {
   "cell_type": "code",
   "execution_count": 80,
   "id": "d11edcba",
   "metadata": {},
   "outputs": [
    {
     "data": {
      "text/plain": [
       "['1001', 'DFA', 'DIS', 'XX']"
      ]
     },
     "execution_count": 80,
     "metadata": {},
     "output_type": "execute_result"
    }
   ],
   "source": [
    "os.listdir(crema_path)[1].partition('.wav')[0].split('_')"
   ]
  },
  {
   "cell_type": "markdown",
   "id": "f94bb9ed",
   "metadata": {},
   "source": [
    "I will use above function to define the emotion and filepath"
   ]
  },
  {
   "cell_type": "code",
   "execution_count": 81,
   "id": "f858002a",
   "metadata": {},
   "outputs": [
    {
     "name": "stdout",
     "output_type": "stream",
     "text": [
      "Sample crema_list :\n",
      "[('angry', 'Crema/1001_DFA_ANG_XX.wav'), ('disgust', 'Crema/1001_DFA_DIS_XX.wav'), ('fear', 'Crema/1001_DFA_FEA_XX.wav'), ('happy', 'Crema/1001_DFA_HAP_XX.wav'), ('neutral', 'Crema/1001_DFA_NEU_XX.wav')]\n"
     ]
    }
   ],
   "source": [
    "crema_list = []\n",
    "\n",
    "for wav in os.listdir(crema_path):\n",
    "    emotion = wav.partition(\".wav\")[0].split('_')[2]\n",
    "    if emotion == 'SAD':\n",
    "        crema_list.append(('sadness', crema_path+wav))\n",
    "    elif emotion == 'ANG':\n",
    "        crema_list.append(('angry', crema_path+wav))\n",
    "    elif emotion == 'DIS':\n",
    "        crema_list.append(('disgust', crema_path+wav))\n",
    "    elif emotion == 'FEA':\n",
    "        crema_list.append(('fear', crema_path+wav))\n",
    "    elif emotion == 'HAP':\n",
    "        crema_list.append(('happy', crema_path+wav))\n",
    "    elif emotion == 'NEU':\n",
    "        crema_list.append(('neutral', crema_path+wav))\n",
    "    else:\n",
    "        crema_list.append(('unknown', crema_path+wav))\n",
    "\n",
    "print(\"Sample crema_list :\")\n",
    "print(crema_list[:5])"
   ]
  },
  {
   "cell_type": "code",
   "execution_count": 82,
   "id": "52a9fb61",
   "metadata": {},
   "outputs": [],
   "source": [
    "import pandas as pd"
   ]
  },
  {
   "cell_type": "code",
   "execution_count": 83,
   "id": "b782d20a",
   "metadata": {},
   "outputs": [
    {
     "data": {
      "text/html": [
       "<div>\n",
       "<style scoped>\n",
       "    .dataframe tbody tr th:only-of-type {\n",
       "        vertical-align: middle;\n",
       "    }\n",
       "\n",
       "    .dataframe tbody tr th {\n",
       "        vertical-align: top;\n",
       "    }\n",
       "\n",
       "    .dataframe thead th {\n",
       "        text-align: right;\n",
       "    }\n",
       "</style>\n",
       "<table border=\"1\" class=\"dataframe\">\n",
       "  <thead>\n",
       "    <tr style=\"text-align: right;\">\n",
       "      <th></th>\n",
       "      <th>emotion</th>\n",
       "      <th>file_path</th>\n",
       "    </tr>\n",
       "  </thead>\n",
       "  <tbody>\n",
       "    <tr>\n",
       "      <th>0</th>\n",
       "      <td>angry</td>\n",
       "      <td>Crema/1001_DFA_ANG_XX.wav</td>\n",
       "    </tr>\n",
       "    <tr>\n",
       "      <th>1</th>\n",
       "      <td>disgust</td>\n",
       "      <td>Crema/1001_DFA_DIS_XX.wav</td>\n",
       "    </tr>\n",
       "    <tr>\n",
       "      <th>2</th>\n",
       "      <td>fear</td>\n",
       "      <td>Crema/1001_DFA_FEA_XX.wav</td>\n",
       "    </tr>\n",
       "    <tr>\n",
       "      <th>3</th>\n",
       "      <td>happy</td>\n",
       "      <td>Crema/1001_DFA_HAP_XX.wav</td>\n",
       "    </tr>\n",
       "    <tr>\n",
       "      <th>4</th>\n",
       "      <td>neutral</td>\n",
       "      <td>Crema/1001_DFA_NEU_XX.wav</td>\n",
       "    </tr>\n",
       "  </tbody>\n",
       "</table>\n",
       "</div>"
      ],
      "text/plain": [
       "   emotion                  file_path\n",
       "0    angry  Crema/1001_DFA_ANG_XX.wav\n",
       "1  disgust  Crema/1001_DFA_DIS_XX.wav\n",
       "2     fear  Crema/1001_DFA_FEA_XX.wav\n",
       "3    happy  Crema/1001_DFA_HAP_XX.wav\n",
       "4  neutral  Crema/1001_DFA_NEU_XX.wav"
      ]
     },
     "execution_count": 83,
     "metadata": {},
     "output_type": "execute_result"
    }
   ],
   "source": [
    "df_crema = pd.DataFrame(crema_list, columns=['emotion', 'file_path'])\n",
    "df_crema.head()"
   ]
  },
  {
   "cell_type": "code",
   "execution_count": 84,
   "id": "95e8bfa9",
   "metadata": {},
   "outputs": [
    {
     "data": {
      "text/plain": [
       "array(['angry', 'disgust', 'fear', 'happy', 'neutral', 'sadness'],\n",
       "      dtype=object)"
      ]
     },
     "execution_count": 84,
     "metadata": {},
     "output_type": "execute_result"
    }
   ],
   "source": [
    "df_crema['emotion'].unique()"
   ]
  },
  {
   "cell_type": "markdown",
   "id": "4626a9e3",
   "metadata": {},
   "source": [
    "## Radvess Dataset"
   ]
  },
  {
   "cell_type": "code",
   "execution_count": 85,
   "id": "b5a9badf",
   "metadata": {},
   "outputs": [
    {
     "data": {
      "text/plain": [
       "['audio_speech_actors_01-24']"
      ]
     },
     "execution_count": 85,
     "metadata": {},
     "output_type": "execute_result"
    }
   ],
   "source": [
    "os.listdir(ravdess_path)"
   ]
  },
  {
   "cell_type": "code",
   "execution_count": 86,
   "id": "efd3eb29",
   "metadata": {},
   "outputs": [
    {
     "data": {
      "text/plain": [
       "['Actor_01',\n",
       " 'Actor_02',\n",
       " 'Actor_03',\n",
       " 'Actor_04',\n",
       " 'Actor_05',\n",
       " 'Actor_06',\n",
       " 'Actor_07',\n",
       " 'Actor_08',\n",
       " 'Actor_09',\n",
       " 'Actor_10',\n",
       " 'Actor_11',\n",
       " 'Actor_12',\n",
       " 'Actor_13',\n",
       " 'Actor_14',\n",
       " 'Actor_15',\n",
       " 'Actor_16',\n",
       " 'Actor_17',\n",
       " 'Actor_18',\n",
       " 'Actor_19',\n",
       " 'Actor_20',\n",
       " 'Actor_21',\n",
       " 'Actor_22',\n",
       " 'Actor_23',\n",
       " 'Actor_24']"
      ]
     },
     "execution_count": 86,
     "metadata": {},
     "output_type": "execute_result"
    }
   ],
   "source": [
    "os.listdir(os.path.join(ravdess_path, os.listdir(ravdess_path)[0]))"
   ]
  },
  {
   "cell_type": "code",
   "execution_count": 87,
   "id": "1d9d1b57",
   "metadata": {},
   "outputs": [
    {
     "data": {
      "text/plain": [
       "'Ravdess/audio_speech_actors_01-24'"
      ]
     },
     "execution_count": 87,
     "metadata": {},
     "output_type": "execute_result"
    }
   ],
   "source": [
    "os.path.join(ravdess_path, os.listdir(ravdess_path)[0])"
   ]
  },
  {
   "cell_type": "code",
   "execution_count": 88,
   "id": "109a8486",
   "metadata": {},
   "outputs": [
    {
     "data": {
      "text/plain": [
       "'Ravdess/audio_speech_actors_01-24'"
      ]
     },
     "execution_count": 88,
     "metadata": {},
     "output_type": "execute_result"
    }
   ],
   "source": [
    "ravdess_path = os.path.join(ravdess_path, os.listdir(ravdess_path)[0])\n",
    "ravdess_path"
   ]
  },
  {
   "cell_type": "code",
   "execution_count": 95,
   "id": "90665a37",
   "metadata": {},
   "outputs": [
    {
     "name": "stdout",
     "output_type": "stream",
     "text": [
      "Ravdess/audio_speech_actors_01-24/Actor_01\n",
      "Ravdess/audio_speech_actors_01-24/Actor_02\n",
      "Ravdess/audio_speech_actors_01-24/Actor_03\n",
      "Ravdess/audio_speech_actors_01-24/Actor_04\n",
      "Ravdess/audio_speech_actors_01-24/Actor_05\n",
      "Ravdess/audio_speech_actors_01-24/Actor_06\n",
      "Ravdess/audio_speech_actors_01-24/Actor_07\n",
      "Ravdess/audio_speech_actors_01-24/Actor_08\n",
      "Ravdess/audio_speech_actors_01-24/Actor_09\n",
      "Ravdess/audio_speech_actors_01-24/Actor_10\n",
      "Ravdess/audio_speech_actors_01-24/Actor_11\n",
      "Ravdess/audio_speech_actors_01-24/Actor_12\n",
      "Ravdess/audio_speech_actors_01-24/Actor_13\n",
      "Ravdess/audio_speech_actors_01-24/Actor_14\n",
      "Ravdess/audio_speech_actors_01-24/Actor_15\n",
      "Ravdess/audio_speech_actors_01-24/Actor_16\n",
      "Ravdess/audio_speech_actors_01-24/Actor_17\n",
      "Ravdess/audio_speech_actors_01-24/Actor_18\n",
      "Ravdess/audio_speech_actors_01-24/Actor_19\n",
      "Ravdess/audio_speech_actors_01-24/Actor_20\n",
      "Ravdess/audio_speech_actors_01-24/Actor_21\n",
      "Ravdess/audio_speech_actors_01-24/Actor_22\n",
      "Ravdess/audio_speech_actors_01-24/Actor_23\n",
      "Ravdess/audio_speech_actors_01-24/Actor_24\n"
     ]
    }
   ],
   "source": [
    "for path in os.listdir(ravdess_path):\n",
    "    paths = ravdess_path+'/'+path\n",
    "    print(paths)"
   ]
  },
  {
   "cell_type": "markdown",
   "id": "8d8e3e49",
   "metadata": {},
   "source": [
    "Emotion (01 = neutral, 02 = calm, 03 = happy, 04 = sad, 05 = angry, 06 = fearful, 07 = disgust, 08 = surprised)."
   ]
  },
  {
   "cell_type": "code",
   "execution_count": 97,
   "id": "3f8bd5fe",
   "metadata": {},
   "outputs": [
    {
     "data": {
      "text/plain": [
       "[('neutral',\n",
       "  'Ravdess/audio_speech_actors_01-24/Actor_01/03-01-01-01-01-01-01.wav'),\n",
       " ('neutral',\n",
       "  'Ravdess/audio_speech_actors_01-24/Actor_01/03-01-01-01-01-02-01.wav'),\n",
       " ('neutral',\n",
       "  'Ravdess/audio_speech_actors_01-24/Actor_01/03-01-01-01-02-01-01.wav'),\n",
       " ('neutral',\n",
       "  'Ravdess/audio_speech_actors_01-24/Actor_01/03-01-01-01-02-02-01.wav'),\n",
       " ('calm',\n",
       "  'Ravdess/audio_speech_actors_01-24/Actor_01/03-01-02-01-01-01-01.wav'),\n",
       " ('calm',\n",
       "  'Ravdess/audio_speech_actors_01-24/Actor_01/03-01-02-01-01-02-01.wav'),\n",
       " ('calm',\n",
       "  'Ravdess/audio_speech_actors_01-24/Actor_01/03-01-02-01-02-01-01.wav'),\n",
       " ('calm',\n",
       "  'Ravdess/audio_speech_actors_01-24/Actor_01/03-01-02-01-02-02-01.wav'),\n",
       " ('calm',\n",
       "  'Ravdess/audio_speech_actors_01-24/Actor_01/03-01-02-02-01-01-01.wav'),\n",
       " ('calm',\n",
       "  'Ravdess/audio_speech_actors_01-24/Actor_01/03-01-02-02-01-02-01.wav')]"
      ]
     },
     "execution_count": 97,
     "metadata": {},
     "output_type": "execute_result"
    }
   ],
   "source": [
    "ravdess_list = []\n",
    "for path in os.listdir(ravdess_path):\n",
    "    paths = ravdess_path+'/'+path\n",
    "    for wav in os.listdir(paths):\n",
    "        emotion = wav.partition(\".wav\")[0].split('-')[2]\n",
    "        if emotion == '01':\n",
    "            ravdess_list.append(('neutral', paths+'/'+wav))\n",
    "        elif emotion == '02':\n",
    "            ravdess_list.append(('calm', paths+'/'+wav))\n",
    "        elif emotion == '03':\n",
    "            ravdess_list.append(('happy', paths+'/'+wav))\n",
    "        elif emotion == '04':\n",
    "            ravdess_list.append(('sadness', paths+'/'+wav))\n",
    "        elif emotion == '05':\n",
    "            ravdess_list.append(('angry', paths+'/'+wav))\n",
    "        elif emotion == '06':\n",
    "            ravdess_list.append(('fear', paths+'/'+wav))\n",
    "        elif emotion == '07':\n",
    "            ravdess_list.append(('disgust', paths+'/'+wav))\n",
    "        elif emotion == '08':\n",
    "            ravdess_list.append(('surprised', paths+'/'+wav))\n",
    "        else:\n",
    "            ravdess_list.append(('unknown', paths+'/'+wav))\n",
    "\n",
    "ravdess_list[:10]"
   ]
  },
  {
   "cell_type": "code",
   "execution_count": 98,
   "id": "74a8f0ea",
   "metadata": {},
   "outputs": [
    {
     "data": {
      "text/plain": [
       "1440"
      ]
     },
     "execution_count": 98,
     "metadata": {},
     "output_type": "execute_result"
    }
   ],
   "source": [
    "len(ravdess_list)"
   ]
  },
  {
   "cell_type": "code",
   "execution_count": 99,
   "id": "681619d8",
   "metadata": {},
   "outputs": [
    {
     "data": {
      "text/html": [
       "<div>\n",
       "<style scoped>\n",
       "    .dataframe tbody tr th:only-of-type {\n",
       "        vertical-align: middle;\n",
       "    }\n",
       "\n",
       "    .dataframe tbody tr th {\n",
       "        vertical-align: top;\n",
       "    }\n",
       "\n",
       "    .dataframe thead th {\n",
       "        text-align: right;\n",
       "    }\n",
       "</style>\n",
       "<table border=\"1\" class=\"dataframe\">\n",
       "  <thead>\n",
       "    <tr style=\"text-align: right;\">\n",
       "      <th></th>\n",
       "      <th>emotion</th>\n",
       "      <th>file_path</th>\n",
       "    </tr>\n",
       "  </thead>\n",
       "  <tbody>\n",
       "    <tr>\n",
       "      <th>0</th>\n",
       "      <td>neutral</td>\n",
       "      <td>Ravdess/audio_speech_actors_01-24/Actor_01/03-...</td>\n",
       "    </tr>\n",
       "    <tr>\n",
       "      <th>1</th>\n",
       "      <td>neutral</td>\n",
       "      <td>Ravdess/audio_speech_actors_01-24/Actor_01/03-...</td>\n",
       "    </tr>\n",
       "    <tr>\n",
       "      <th>2</th>\n",
       "      <td>neutral</td>\n",
       "      <td>Ravdess/audio_speech_actors_01-24/Actor_01/03-...</td>\n",
       "    </tr>\n",
       "    <tr>\n",
       "      <th>3</th>\n",
       "      <td>neutral</td>\n",
       "      <td>Ravdess/audio_speech_actors_01-24/Actor_01/03-...</td>\n",
       "    </tr>\n",
       "    <tr>\n",
       "      <th>4</th>\n",
       "      <td>calm</td>\n",
       "      <td>Ravdess/audio_speech_actors_01-24/Actor_01/03-...</td>\n",
       "    </tr>\n",
       "  </tbody>\n",
       "</table>\n",
       "</div>"
      ],
      "text/plain": [
       "   emotion                                          file_path\n",
       "0  neutral  Ravdess/audio_speech_actors_01-24/Actor_01/03-...\n",
       "1  neutral  Ravdess/audio_speech_actors_01-24/Actor_01/03-...\n",
       "2  neutral  Ravdess/audio_speech_actors_01-24/Actor_01/03-...\n",
       "3  neutral  Ravdess/audio_speech_actors_01-24/Actor_01/03-...\n",
       "4     calm  Ravdess/audio_speech_actors_01-24/Actor_01/03-..."
      ]
     },
     "execution_count": 99,
     "metadata": {},
     "output_type": "execute_result"
    }
   ],
   "source": [
    "df_ravdess = pd.DataFrame(ravdess_list, columns=['emotion', 'file_path'])\n",
    "df_ravdess.head()"
   ]
  },
  {
   "cell_type": "code",
   "execution_count": 114,
   "id": "7988de8b",
   "metadata": {},
   "outputs": [
    {
     "data": {
      "text/plain": [
       "array(['neutral', 'calm', 'happy', 'sadness', 'angry', 'fear', 'disgust',\n",
       "       'surprised'], dtype=object)"
      ]
     },
     "execution_count": 114,
     "metadata": {},
     "output_type": "execute_result"
    }
   ],
   "source": [
    "df_ravdess['emotion'].unique()"
   ]
  },
  {
   "cell_type": "markdown",
   "id": "f08d88f6",
   "metadata": {},
   "source": [
    "## Savee Dataset"
   ]
  },
  {
   "cell_type": "code",
   "execution_count": 121,
   "id": "98814098",
   "metadata": {},
   "outputs": [
    {
     "data": {
      "text/plain": [
       "'a01.wav'"
      ]
     },
     "execution_count": 121,
     "metadata": {},
     "output_type": "execute_result"
    }
   ],
   "source": [
    "os.listdir(savee_path)[0].split('_')[1]"
   ]
  },
  {
   "cell_type": "code",
   "execution_count": 116,
   "id": "747a13d6",
   "metadata": {},
   "outputs": [
    {
     "data": {
      "text/plain": [
       "['a', '01', '.wav']"
      ]
     },
     "execution_count": 116,
     "metadata": {},
     "output_type": "execute_result"
    }
   ],
   "source": [
    "import re\n",
    "re.split('(\\d+)', os.listdir(savee_path)[0].split('_')[1])"
   ]
  },
  {
   "cell_type": "markdown",
   "id": "d1eeaa51",
   "metadata": {},
   "source": [
    "* 'a' = 'anger'\n",
    "* 'd' = 'disgust'\n",
    "* 'f' = 'fear'\n",
    "* 'h' = 'happiness'\n",
    "* 'n' = 'neutral'\n",
    "* 'sa' = 'sadness'\n",
    "* 'su' = 'surprise'"
   ]
  },
  {
   "cell_type": "code",
   "execution_count": 137,
   "id": "f9e39935",
   "metadata": {},
   "outputs": [
    {
     "data": {
      "text/plain": [
       "[('angry', 'Savee/DC_a01.wav'),\n",
       " ('angry', 'Savee/DC_a02.wav'),\n",
       " ('angry', 'Savee/DC_a03.wav'),\n",
       " ('angry', 'Savee/DC_a04.wav'),\n",
       " ('angry', 'Savee/DC_a05.wav'),\n",
       " ('angry', 'Savee/DC_a06.wav'),\n",
       " ('angry', 'Savee/DC_a07.wav'),\n",
       " ('angry', 'Savee/DC_a08.wav'),\n",
       " ('angry', 'Savee/DC_a09.wav'),\n",
       " ('angry', 'Savee/DC_a10.wav')]"
      ]
     },
     "execution_count": 137,
     "metadata": {},
     "output_type": "execute_result"
    }
   ],
   "source": [
    "savee_list = []\n",
    "for wav in os.listdir(savee_path):\n",
    "    emotion = re.split('(\\d+)', wav.split('_')[1])[0]\n",
    "    if emotion == 'a':\n",
    "        savee_list.append(('angry', savee_path+wav))\n",
    "    elif emotion == 'd':\n",
    "        savee_list.append(('disgust', savee_path+wav))\n",
    "    elif emotion == 'f':\n",
    "        savee_list.append(('fear', savee_path+wav))\n",
    "    elif emotion == 'h':\n",
    "        savee_list.append(('happy', savee_path+wav))\n",
    "    elif emotion == 'n':\n",
    "        savee_list.append(('neutral', savee_path+wav))\n",
    "    elif emotion == 'sa':\n",
    "        savee_list.append(('sadness', savee_path+wav))\n",
    "    elif emotion == 'su':\n",
    "        savee_list.append(('surprised', savee_path+wav))\n",
    "    else:\n",
    "        savee_list.append(('unknown', savee_path+wav))\n",
    "\n",
    "savee_list[:10]"
   ]
  },
  {
   "cell_type": "code",
   "execution_count": 138,
   "id": "f97215c7",
   "metadata": {},
   "outputs": [
    {
     "data": {
      "text/plain": [
       "480"
      ]
     },
     "execution_count": 138,
     "metadata": {},
     "output_type": "execute_result"
    }
   ],
   "source": [
    "len(savee_list)"
   ]
  },
  {
   "cell_type": "code",
   "execution_count": 139,
   "id": "b0d3c89c",
   "metadata": {},
   "outputs": [
    {
     "data": {
      "text/html": [
       "<div>\n",
       "<style scoped>\n",
       "    .dataframe tbody tr th:only-of-type {\n",
       "        vertical-align: middle;\n",
       "    }\n",
       "\n",
       "    .dataframe tbody tr th {\n",
       "        vertical-align: top;\n",
       "    }\n",
       "\n",
       "    .dataframe thead th {\n",
       "        text-align: right;\n",
       "    }\n",
       "</style>\n",
       "<table border=\"1\" class=\"dataframe\">\n",
       "  <thead>\n",
       "    <tr style=\"text-align: right;\">\n",
       "      <th></th>\n",
       "      <th>emotion</th>\n",
       "      <th>file_path</th>\n",
       "    </tr>\n",
       "  </thead>\n",
       "  <tbody>\n",
       "    <tr>\n",
       "      <th>0</th>\n",
       "      <td>angry</td>\n",
       "      <td>Savee/DC_a01.wav</td>\n",
       "    </tr>\n",
       "    <tr>\n",
       "      <th>1</th>\n",
       "      <td>angry</td>\n",
       "      <td>Savee/DC_a02.wav</td>\n",
       "    </tr>\n",
       "    <tr>\n",
       "      <th>2</th>\n",
       "      <td>angry</td>\n",
       "      <td>Savee/DC_a03.wav</td>\n",
       "    </tr>\n",
       "    <tr>\n",
       "      <th>3</th>\n",
       "      <td>angry</td>\n",
       "      <td>Savee/DC_a04.wav</td>\n",
       "    </tr>\n",
       "    <tr>\n",
       "      <th>4</th>\n",
       "      <td>angry</td>\n",
       "      <td>Savee/DC_a05.wav</td>\n",
       "    </tr>\n",
       "  </tbody>\n",
       "</table>\n",
       "</div>"
      ],
      "text/plain": [
       "  emotion         file_path\n",
       "0   angry  Savee/DC_a01.wav\n",
       "1   angry  Savee/DC_a02.wav\n",
       "2   angry  Savee/DC_a03.wav\n",
       "3   angry  Savee/DC_a04.wav\n",
       "4   angry  Savee/DC_a05.wav"
      ]
     },
     "execution_count": 139,
     "metadata": {},
     "output_type": "execute_result"
    }
   ],
   "source": [
    "df_savee = pd.DataFrame(savee_list, columns=['emotion', 'file_path'])\n",
    "df_savee.head()"
   ]
  },
  {
   "cell_type": "code",
   "execution_count": 140,
   "id": "8a249efa",
   "metadata": {},
   "outputs": [
    {
     "data": {
      "text/plain": [
       "array(['angry', 'disgust', 'fear', 'happy', 'neutral', 'sadness',\n",
       "       'surprised'], dtype=object)"
      ]
     },
     "execution_count": 140,
     "metadata": {},
     "output_type": "execute_result"
    }
   ],
   "source": [
    "df_savee['emotion'].unique()"
   ]
  },
  {
   "cell_type": "markdown",
   "id": "73d954e4",
   "metadata": {},
   "source": [
    "## Tess Dataset"
   ]
  },
  {
   "cell_type": "code",
   "execution_count": 141,
   "id": "10a67cf7",
   "metadata": {},
   "outputs": [
    {
     "data": {
      "text/plain": [
       "['OAF_angry',\n",
       " 'OAF_disgust',\n",
       " 'OAF_Fear',\n",
       " 'OAF_happy',\n",
       " 'OAF_neutral',\n",
       " 'OAF_Pleasant_surprise',\n",
       " 'OAF_Sad',\n",
       " 'YAF_angry',\n",
       " 'YAF_disgust',\n",
       " 'YAF_fear',\n",
       " 'YAF_happy',\n",
       " 'YAF_neutral',\n",
       " 'YAF_pleasant_surprised',\n",
       " 'YAF_sad']"
      ]
     },
     "execution_count": 141,
     "metadata": {},
     "output_type": "execute_result"
    }
   ],
   "source": [
    "os.listdir(tess_path)"
   ]
  },
  {
   "cell_type": "code",
   "execution_count": 152,
   "id": "1270d4a3",
   "metadata": {},
   "outputs": [
    {
     "data": {
      "text/plain": [
       "[('angry', 'Tess/OAF_angry/OAF_back_angry.wav'),\n",
       " ('angry', 'Tess/OAF_angry/OAF_bar_angry.wav'),\n",
       " ('angry', 'Tess/OAF_angry/OAF_base_angry.wav'),\n",
       " ('angry', 'Tess/OAF_angry/OAF_bath_angry.wav'),\n",
       " ('angry', 'Tess/OAF_angry/OAF_bean_angry.wav'),\n",
       " ('angry', 'Tess/OAF_angry/OAF_beg_angry.wav'),\n",
       " ('angry', 'Tess/OAF_angry/OAF_bite_angry.wav'),\n",
       " ('angry', 'Tess/OAF_angry/OAF_boat_angry.wav'),\n",
       " ('angry', 'Tess/OAF_angry/OAF_bone_angry.wav'),\n",
       " ('angry', 'Tess/OAF_angry/OAF_book_angry.wav')]"
      ]
     },
     "execution_count": 152,
     "metadata": {},
     "output_type": "execute_result"
    }
   ],
   "source": [
    "tess_list = []\n",
    "for path in os.listdir(tess_path):\n",
    "    paths = tess_path+path\n",
    "    for wav in os.listdir(paths):\n",
    "        emotion = wav.partition(\".wav\")[0].split('_')[2]\n",
    "        if emotion == 'angry':\n",
    "            tess_list.append(('angry', paths+'/'+wav))\n",
    "        elif emotion == 'disgust':\n",
    "            tess_list.append(('disgust', paths+'/'+wav))\n",
    "        elif emotion == 'fear':\n",
    "            tess_list.append(('fear', paths+'/'+wav))\n",
    "        elif emotion == 'happy':\n",
    "            tess_list.append(('happy', paths+'/'+wav))\n",
    "        elif emotion == 'neutral':\n",
    "            tess_list.append(('neutral', paths+'/'+wav))\n",
    "        elif emotion == 'ps':\n",
    "            tess_list.append(('surprised', paths+'/'+wav))\n",
    "        elif emotion == 'sad':\n",
    "            tess_list.append(('sadness', paths+'/'+wav))\n",
    "        else:\n",
    "            tess_list.append(('unknown', paths+'/'+wav))\n",
    "\n",
    "tess_list[:10]"
   ]
  },
  {
   "cell_type": "code",
   "execution_count": 153,
   "id": "b12871d2",
   "metadata": {},
   "outputs": [
    {
     "data": {
      "text/html": [
       "<div>\n",
       "<style scoped>\n",
       "    .dataframe tbody tr th:only-of-type {\n",
       "        vertical-align: middle;\n",
       "    }\n",
       "\n",
       "    .dataframe tbody tr th {\n",
       "        vertical-align: top;\n",
       "    }\n",
       "\n",
       "    .dataframe thead th {\n",
       "        text-align: right;\n",
       "    }\n",
       "</style>\n",
       "<table border=\"1\" class=\"dataframe\">\n",
       "  <thead>\n",
       "    <tr style=\"text-align: right;\">\n",
       "      <th></th>\n",
       "      <th>emotion</th>\n",
       "      <th>file_path</th>\n",
       "    </tr>\n",
       "  </thead>\n",
       "  <tbody>\n",
       "    <tr>\n",
       "      <th>0</th>\n",
       "      <td>angry</td>\n",
       "      <td>Tess/OAF_angry/OAF_back_angry.wav</td>\n",
       "    </tr>\n",
       "    <tr>\n",
       "      <th>1</th>\n",
       "      <td>angry</td>\n",
       "      <td>Tess/OAF_angry/OAF_bar_angry.wav</td>\n",
       "    </tr>\n",
       "    <tr>\n",
       "      <th>2</th>\n",
       "      <td>angry</td>\n",
       "      <td>Tess/OAF_angry/OAF_base_angry.wav</td>\n",
       "    </tr>\n",
       "    <tr>\n",
       "      <th>3</th>\n",
       "      <td>angry</td>\n",
       "      <td>Tess/OAF_angry/OAF_bath_angry.wav</td>\n",
       "    </tr>\n",
       "    <tr>\n",
       "      <th>4</th>\n",
       "      <td>angry</td>\n",
       "      <td>Tess/OAF_angry/OAF_bean_angry.wav</td>\n",
       "    </tr>\n",
       "  </tbody>\n",
       "</table>\n",
       "</div>"
      ],
      "text/plain": [
       "  emotion                          file_path\n",
       "0   angry  Tess/OAF_angry/OAF_back_angry.wav\n",
       "1   angry   Tess/OAF_angry/OAF_bar_angry.wav\n",
       "2   angry  Tess/OAF_angry/OAF_base_angry.wav\n",
       "3   angry  Tess/OAF_angry/OAF_bath_angry.wav\n",
       "4   angry  Tess/OAF_angry/OAF_bean_angry.wav"
      ]
     },
     "execution_count": 153,
     "metadata": {},
     "output_type": "execute_result"
    }
   ],
   "source": [
    "df_tess = pd.DataFrame(tess_list, columns=['emotion', 'file_path'])\n",
    "df_tess.head()"
   ]
  },
  {
   "cell_type": "code",
   "execution_count": 154,
   "id": "488fb9fa",
   "metadata": {},
   "outputs": [
    {
     "data": {
      "text/plain": [
       "array(['angry', 'disgust', 'fear', 'happy', 'neutral', 'surprised',\n",
       "       'sadness'], dtype=object)"
      ]
     },
     "execution_count": 154,
     "metadata": {},
     "output_type": "execute_result"
    }
   ],
   "source": [
    "df_tess['emotion'].unique()"
   ]
  },
  {
   "cell_type": "markdown",
   "id": "c79645a2",
   "metadata": {},
   "source": [
    "## Merge Dataframes"
   ]
  },
  {
   "cell_type": "code",
   "execution_count": 155,
   "id": "2ea338a8",
   "metadata": {},
   "outputs": [
    {
     "data": {
      "text/html": [
       "<div>\n",
       "<style scoped>\n",
       "    .dataframe tbody tr th:only-of-type {\n",
       "        vertical-align: middle;\n",
       "    }\n",
       "\n",
       "    .dataframe tbody tr th {\n",
       "        vertical-align: top;\n",
       "    }\n",
       "\n",
       "    .dataframe thead th {\n",
       "        text-align: right;\n",
       "    }\n",
       "</style>\n",
       "<table border=\"1\" class=\"dataframe\">\n",
       "  <thead>\n",
       "    <tr style=\"text-align: right;\">\n",
       "      <th></th>\n",
       "      <th>emotion</th>\n",
       "      <th>file_path</th>\n",
       "    </tr>\n",
       "  </thead>\n",
       "  <tbody>\n",
       "    <tr>\n",
       "      <th>0</th>\n",
       "      <td>angry</td>\n",
       "      <td>Crema/1001_DFA_ANG_XX.wav</td>\n",
       "    </tr>\n",
       "    <tr>\n",
       "      <th>1</th>\n",
       "      <td>disgust</td>\n",
       "      <td>Crema/1001_DFA_DIS_XX.wav</td>\n",
       "    </tr>\n",
       "    <tr>\n",
       "      <th>2</th>\n",
       "      <td>fear</td>\n",
       "      <td>Crema/1001_DFA_FEA_XX.wav</td>\n",
       "    </tr>\n",
       "    <tr>\n",
       "      <th>3</th>\n",
       "      <td>happy</td>\n",
       "      <td>Crema/1001_DFA_HAP_XX.wav</td>\n",
       "    </tr>\n",
       "    <tr>\n",
       "      <th>4</th>\n",
       "      <td>neutral</td>\n",
       "      <td>Crema/1001_DFA_NEU_XX.wav</td>\n",
       "    </tr>\n",
       "  </tbody>\n",
       "</table>\n",
       "</div>"
      ],
      "text/plain": [
       "   emotion                  file_path\n",
       "0    angry  Crema/1001_DFA_ANG_XX.wav\n",
       "1  disgust  Crema/1001_DFA_DIS_XX.wav\n",
       "2     fear  Crema/1001_DFA_FEA_XX.wav\n",
       "3    happy  Crema/1001_DFA_HAP_XX.wav\n",
       "4  neutral  Crema/1001_DFA_NEU_XX.wav"
      ]
     },
     "execution_count": 155,
     "metadata": {},
     "output_type": "execute_result"
    }
   ],
   "source": [
    "df = pd.concat([df_crema, df_ravdess, df_savee, df_tess], ignore_index=True)\n",
    "df.head()"
   ]
  },
  {
   "cell_type": "markdown",
   "id": "4200c40d",
   "metadata": {},
   "source": [
    "# Exploratory Data Analysis"
   ]
  },
  {
   "cell_type": "code",
   "execution_count": 162,
   "id": "7f3b7ae2",
   "metadata": {},
   "outputs": [
    {
     "data": {
      "text/plain": [
       "pandas.core.series.Series"
      ]
     },
     "execution_count": 162,
     "metadata": {},
     "output_type": "execute_result"
    }
   ],
   "source": [
    "df['emotion'].value_counts()"
   ]
  },
  {
   "cell_type": "code",
   "execution_count": 189,
   "id": "b5015891",
   "metadata": {},
   "outputs": [
    {
     "data": {
      "image/png": "[encoded data removed]",
      "text/plain": [
       "<Figure size 720x432 with 1 Axes>"
      ]
     },
     "metadata": {
      "needs_background": "light"
     },
     "output_type": "display_data"
    }
   ],
   "source": [
    "import seaborn as sns\n",
    "import matplotlib.pyplot as plt\n",
    "\n",
    "plt.figure(figsize=(10,6))\n",
    "plt.title(\"Emotion Count\", size=18)\n",
    "cplot = sns.countplot(x='emotion', data=df)\n",
    "plt.xlabel(\"Emotions\", size=12)\n",
    "plt.ylabel(\"Counts\", size=12)\n",
    "for p in cplot.patches:\n",
    "    cplot.annotate(format(p.get_height()), \n",
    "                   (p.get_x() + p.get_width() / 2., p.get_height()), \n",
    "                   ha = 'center', va = 'center', xytext = (0, 7), textcoords = 'offset points')"
   ]
  },
  {
   "cell_type": "code",
   "execution_count": null,
   "id": "94a3411e",
   "metadata": {},
   "outputs": [],
   "source": []
  }
 ],
 "metadata": {
  "kernelspec": {
   "display_name": "Python 3 (ipykernel)",
   "language": "python",
   "name": "python3"
  },
  "language_info": {
   "codemirror_mode": {
    "name": "ipython",
    "version": 3
   },
   "file_extension": ".py",
   "mimetype": "text/x-python",
   "name": "python",
   "nbconvert_exporter": "python",
   "pygments_lexer": "ipython3",
   "version": "3.9.12"
  },
  "toc": {
   "base_numbering": 1,
   "nav_menu": {},
   "number_sections": true,
   "sideBar": true,
   "skip_h1_title": false,
   "title_cell": "Table of Contents",
   "title_sidebar": "Contents",
   "toc_cell": false,
   "toc_position": {},
   "toc_section_display": true,
   "toc_window_display": false
  },
  "varInspector": {
   "cols": {
    "lenName": 16,
    "lenType": 16,
    "lenVar": 40
   },
   "kernels_config": {
    "python": {
     "delete_cmd_postfix": "",
     "delete_cmd_prefix": "del ",
     "library": "var_list.py",
     "varRefreshCmd": "print(var_dic_list())"
    },
    "r": {
     "delete_cmd_postfix": ") ",
     "delete_cmd_prefix": "rm(",
     "library": "var_list.r",
     "varRefreshCmd": "cat(var_dic_list()) "
    }
   },
   "types_to_exclude": [
    "module",
    "function",
    "builtin_function_or_method",
    "instance",
    "_Feature"
   ],
   "window_display": false
  }
 },
 "nbformat": 4,
 "nbformat_minor": 5
}
